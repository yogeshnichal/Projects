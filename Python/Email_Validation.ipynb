{
 "cells": [
  {
   "cell_type": "code",
   "execution_count": 7,
   "id": "869b02f8",
   "metadata": {},
   "outputs": [
    {
     "name": "stdout",
     "output_type": "stream",
     "text": [
      "Enter email id: yogeshnichal@gmail.com\n"
     ]
    }
   ],
   "source": [
    "email = input(\"Enter email id: \") # g@g.com\n",
    "k,j,d = 0,0,0\n",
    "\n",
    "if len(email)>=6:\n",
    "    if email[0].isalpha():\n",
    "        if (\"@\" in email) and (email.count(\"@\")==1):\n",
    "            if (email[-4]==\".\") ^ (email[-3]==\".\"):\n",
    "                for i in email:\n",
    "                    if i == i.isspace():\n",
    "                        k=1\n",
    "                    elif i.isalpha():\n",
    "                        if i==i.upper():\n",
    "                            j=1\n",
    "                    elif i.isdigit():\n",
    "                        continue\n",
    "                    elif i==\"_\" or i==\".\" or i==\"@\":\n",
    "                        continue\n",
    "                    else:\n",
    "                        d=1\n",
    "                if k==1 or j==1 or d==1:\n",
    "                    print(\"Please Enter Valid Email5\")\n",
    "            else:\n",
    "                print(\"Please Enter Valid Email4\")\n",
    "        else:\n",
    "            print(\"Please Enter Valid Email3\")\n",
    "    else:\n",
    "        print(\"Please Enter Valid Email2\")\n",
    "else:\n",
    "    print(\"Please Enter Valid Email1\")"
   ]
  },
  {
   "cell_type": "code",
   "execution_count": null,
   "id": "4324af83",
   "metadata": {},
   "outputs": [],
   "source": [
    "email = input(\"Enter email id: \")"
   ]
  }
 ],
 "metadata": {
  "kernelspec": {
   "display_name": "Python 3 (ipykernel)",
   "language": "python",
   "name": "python3"
  },
  "language_info": {
   "codemirror_mode": {
    "name": "ipython",
    "version": 3
   },
   "file_extension": ".py",
   "mimetype": "text/x-python",
   "name": "python",
   "nbconvert_exporter": "python",
   "pygments_lexer": "ipython3",
   "version": "3.9.13"
  }
 },
 "nbformat": 4,
 "nbformat_minor": 5
}
