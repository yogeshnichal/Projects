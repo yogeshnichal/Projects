{
 "cells": [
  {
   "cell_type": "markdown",
   "id": "74c15979",
   "metadata": {},
   "source": [
    "### The Wether Dataset"
   ]
  },
  {
   "cell_type": "markdown",
   "id": "bf376809",
   "metadata": {},
   "source": [
    "Here, The Wether Dataset is a time-series data set with per-hour information about the wether conditions at a perticular location. it records Temperature. Dew Point Temperature, Relative Humidity Wind Speed, Visibility, Pressure and Condations."
   ]
  },
  {
   "cell_type": "markdown",
   "id": "a6daf7c9",
   "metadata": {},
   "source": [
    "import read_csv Pandas DataFreame"
   ]
  },
  {
   "cell_type": "code",
   "execution_count": 1,
   "id": "72d3cefe",
   "metadata": {},
   "outputs": [],
   "source": [
    "import pandas as pd\n",
    "import numpy as np"
   ]
  },
  {
   "cell_type": "code",
   "execution_count": 2,
   "id": "ace33e91",
   "metadata": {},
   "outputs": [],
   "source": [
    "data = pd.read_csv(r\"Weather Data.csv\")"
   ]
  },
  {
   "cell_type": "markdown",
   "id": "a5f47e6c",
   "metadata": {},
   "source": [
    "### How to Anlyze DataFrames?"
   ]
  },
  {
   "cell_type": "markdown",
   "id": "edfd71ae",
   "metadata": {},
   "source": [
    "### .head()\n",
    "It shows the first n rows in the data(by default N=5)"
   ]
  },
  {
   "cell_type": "code",
   "execution_count": 3,
   "id": "b866b97c",
   "metadata": {},
   "outputs": [
    {
     "data": {
      "text/html": [
       "<div>\n",
       "<style scoped>\n",
       "    .dataframe tbody tr th:only-of-type {\n",
       "        vertical-align: middle;\n",
       "    }\n",
       "\n",
       "    .dataframe tbody tr th {\n",
       "        vertical-align: top;\n",
       "    }\n",
       "\n",
       "    .dataframe thead th {\n",
       "        text-align: right;\n",
       "    }\n",
       "</style>\n",
       "<table border=\"1\" class=\"dataframe\">\n",
       "  <thead>\n",
       "    <tr style=\"text-align: right;\">\n",
       "      <th></th>\n",
       "      <th>Date/Time</th>\n",
       "      <th>Temp_C</th>\n",
       "      <th>Dew Point Temp_C</th>\n",
       "      <th>Rel Hum_%</th>\n",
       "      <th>Wind Speed_km/h</th>\n",
       "      <th>Visibility_km</th>\n",
       "      <th>Press_kPa</th>\n",
       "      <th>Weather</th>\n",
       "    </tr>\n",
       "  </thead>\n",
       "  <tbody>\n",
       "    <tr>\n",
       "      <th>0</th>\n",
       "      <td>1/1/2012 0:00</td>\n",
       "      <td>-1.8</td>\n",
       "      <td>-3.9</td>\n",
       "      <td>86</td>\n",
       "      <td>4</td>\n",
       "      <td>8.0</td>\n",
       "      <td>101.24</td>\n",
       "      <td>Fog</td>\n",
       "    </tr>\n",
       "    <tr>\n",
       "      <th>1</th>\n",
       "      <td>1/1/2012 1:00</td>\n",
       "      <td>-1.8</td>\n",
       "      <td>-3.7</td>\n",
       "      <td>87</td>\n",
       "      <td>4</td>\n",
       "      <td>8.0</td>\n",
       "      <td>101.24</td>\n",
       "      <td>Fog</td>\n",
       "    </tr>\n",
       "    <tr>\n",
       "      <th>2</th>\n",
       "      <td>1/1/2012 2:00</td>\n",
       "      <td>-1.8</td>\n",
       "      <td>-3.4</td>\n",
       "      <td>89</td>\n",
       "      <td>7</td>\n",
       "      <td>4.0</td>\n",
       "      <td>101.26</td>\n",
       "      <td>Freezing Drizzle,Fog</td>\n",
       "    </tr>\n",
       "    <tr>\n",
       "      <th>3</th>\n",
       "      <td>1/1/2012 3:00</td>\n",
       "      <td>-1.5</td>\n",
       "      <td>-3.2</td>\n",
       "      <td>88</td>\n",
       "      <td>6</td>\n",
       "      <td>4.0</td>\n",
       "      <td>101.27</td>\n",
       "      <td>Freezing Drizzle,Fog</td>\n",
       "    </tr>\n",
       "    <tr>\n",
       "      <th>4</th>\n",
       "      <td>1/1/2012 4:00</td>\n",
       "      <td>-1.5</td>\n",
       "      <td>-3.3</td>\n",
       "      <td>88</td>\n",
       "      <td>7</td>\n",
       "      <td>4.8</td>\n",
       "      <td>101.23</td>\n",
       "      <td>Fog</td>\n",
       "    </tr>\n",
       "  </tbody>\n",
       "</table>\n",
       "</div>"
      ],
      "text/plain": [
       "       Date/Time  Temp_C  Dew Point Temp_C  Rel Hum_%  Wind Speed_km/h  \\\n",
       "0  1/1/2012 0:00    -1.8              -3.9         86                4   \n",
       "1  1/1/2012 1:00    -1.8              -3.7         87                4   \n",
       "2  1/1/2012 2:00    -1.8              -3.4         89                7   \n",
       "3  1/1/2012 3:00    -1.5              -3.2         88                6   \n",
       "4  1/1/2012 4:00    -1.5              -3.3         88                7   \n",
       "\n",
       "   Visibility_km  Press_kPa               Weather  \n",
       "0            8.0     101.24                   Fog  \n",
       "1            8.0     101.24                   Fog  \n",
       "2            4.0     101.26  Freezing Drizzle,Fog  \n",
       "3            4.0     101.27  Freezing Drizzle,Fog  \n",
       "4            4.8     101.23                   Fog  "
      ]
     },
     "execution_count": 3,
     "metadata": {},
     "output_type": "execute_result"
    }
   ],
   "source": [
    "data.head()"
   ]
  },
  {
   "cell_type": "markdown",
   "id": "c3c07d3a",
   "metadata": {},
   "source": [
    "### .shape()\n",
    "it shows the total no. of rows and no. of columns of the dataframe"
   ]
  },
  {
   "cell_type": "code",
   "execution_count": 4,
   "id": "a95aa78e",
   "metadata": {},
   "outputs": [
    {
     "data": {
      "text/plain": [
       "(8784, 8)"
      ]
     },
     "execution_count": 4,
     "metadata": {},
     "output_type": "execute_result"
    }
   ],
   "source": [
    "data.shape"
   ]
  },
  {
   "cell_type": "markdown",
   "id": "77421085",
   "metadata": {},
   "source": [
    "### .index\n",
    "This attribute provides the index of the dataframe"
   ]
  },
  {
   "cell_type": "code",
   "execution_count": 5,
   "id": "d4265eed",
   "metadata": {},
   "outputs": [
    {
     "data": {
      "text/plain": [
       "RangeIndex(start=0, stop=8784, step=1)"
      ]
     },
     "execution_count": 5,
     "metadata": {},
     "output_type": "execute_result"
    }
   ],
   "source": [
    "data.index"
   ]
  },
  {
   "cell_type": "markdown",
   "id": "f0b5a683",
   "metadata": {},
   "source": [
    "### .columns\n",
    "It shows the name of each coloumn"
   ]
  },
  {
   "cell_type": "code",
   "execution_count": 6,
   "id": "ce478c04",
   "metadata": {},
   "outputs": [
    {
     "data": {
      "text/plain": [
       "Index(['Date/Time', 'Temp_C', 'Dew Point Temp_C', 'Rel Hum_%',\n",
       "       'Wind Speed_km/h', 'Visibility_km', 'Press_kPa', 'Weather'],\n",
       "      dtype='object')"
      ]
     },
     "execution_count": 6,
     "metadata": {},
     "output_type": "execute_result"
    }
   ],
   "source": [
    "data.columns"
   ]
  },
  {
   "cell_type": "markdown",
   "id": "e3fe39f8",
   "metadata": {},
   "source": [
    "### .dtypes\n",
    "it shows the data-typeof each column"
   ]
  },
  {
   "cell_type": "code",
   "execution_count": 7,
   "id": "7aab5ab4",
   "metadata": {},
   "outputs": [
    {
     "data": {
      "text/plain": [
       "Date/Time            object\n",
       "Temp_C              float64\n",
       "Dew Point Temp_C    float64\n",
       "Rel Hum_%             int64\n",
       "Wind Speed_km/h       int64\n",
       "Visibility_km       float64\n",
       "Press_kPa           float64\n",
       "Weather              object\n",
       "dtype: object"
      ]
     },
     "execution_count": 7,
     "metadata": {},
     "output_type": "execute_result"
    }
   ],
   "source": [
    "data.dtypes"
   ]
  },
  {
   "cell_type": "markdown",
   "id": "5d550369",
   "metadata": {},
   "source": [
    "### .unique()\n",
    "in a column, it shows all the unique values"
   ]
  },
  {
   "cell_type": "code",
   "execution_count": 8,
   "id": "026ad637",
   "metadata": {},
   "outputs": [
    {
     "data": {
      "text/plain": [
       "array(['Fog', 'Freezing Drizzle,Fog', 'Mostly Cloudy', 'Cloudy', 'Rain',\n",
       "       'Rain Showers', 'Mainly Clear', 'Snow Showers', 'Snow', 'Clear',\n",
       "       'Freezing Rain,Fog', 'Freezing Rain', 'Freezing Drizzle',\n",
       "       'Rain,Snow', 'Moderate Snow', 'Freezing Drizzle,Snow',\n",
       "       'Freezing Rain,Snow Grains', 'Snow,Blowing Snow', 'Freezing Fog',\n",
       "       'Haze', 'Rain,Fog', 'Drizzle,Fog', 'Drizzle',\n",
       "       'Freezing Drizzle,Haze', 'Freezing Rain,Haze', 'Snow,Haze',\n",
       "       'Snow,Fog', 'Snow,Ice Pellets', 'Rain,Haze', 'Thunderstorms,Rain',\n",
       "       'Thunderstorms,Rain Showers', 'Thunderstorms,Heavy Rain Showers',\n",
       "       'Thunderstorms,Rain Showers,Fog', 'Thunderstorms',\n",
       "       'Thunderstorms,Rain,Fog',\n",
       "       'Thunderstorms,Moderate Rain Showers,Fog', 'Rain Showers,Fog',\n",
       "       'Rain Showers,Snow Showers', 'Snow Pellets', 'Rain,Snow,Fog',\n",
       "       'Moderate Rain,Fog', 'Freezing Rain,Ice Pellets,Fog',\n",
       "       'Drizzle,Ice Pellets,Fog', 'Drizzle,Snow', 'Rain,Ice Pellets',\n",
       "       'Drizzle,Snow,Fog', 'Rain,Snow Grains', 'Rain,Snow,Ice Pellets',\n",
       "       'Snow Showers,Fog', 'Moderate Snow,Blowing Snow'], dtype=object)"
      ]
     },
     "execution_count": 8,
     "metadata": {},
     "output_type": "execute_result"
    }
   ],
   "source": [
    "data['Weather'].unique()"
   ]
  },
  {
   "cell_type": "markdown",
   "id": "82d2d64b",
   "metadata": {},
   "source": [
    "### .nunique()\n",
    "It shows the total no of unique values in each column. It can be applied on a single column as well as on whole dataframe."
   ]
  },
  {
   "cell_type": "code",
   "execution_count": 9,
   "id": "e2855e7f",
   "metadata": {},
   "outputs": [
    {
     "data": {
      "text/plain": [
       "Date/Time           8784\n",
       "Temp_C               533\n",
       "Dew Point Temp_C     489\n",
       "Rel Hum_%             83\n",
       "Wind Speed_km/h       34\n",
       "Visibility_km         24\n",
       "Press_kPa            518\n",
       "Weather               50\n",
       "dtype: int64"
      ]
     },
     "execution_count": 9,
     "metadata": {},
     "output_type": "execute_result"
    }
   ],
   "source": [
    "data.nunique()"
   ]
  },
  {
   "cell_type": "markdown",
   "id": "a04b5e48",
   "metadata": {},
   "source": [
    "### .count\n",
    "It shows the total no of non-null values in each column. It can be applied on a single column as well as on whole dataframe."
   ]
  },
  {
   "cell_type": "code",
   "execution_count": 10,
   "id": "777dd519",
   "metadata": {},
   "outputs": [
    {
     "data": {
      "text/plain": [
       "Date/Time           8784\n",
       "Temp_C              8784\n",
       "Dew Point Temp_C    8784\n",
       "Rel Hum_%           8784\n",
       "Wind Speed_km/h     8784\n",
       "Visibility_km       8784\n",
       "Press_kPa           8784\n",
       "Weather             8784\n",
       "dtype: int64"
      ]
     },
     "execution_count": 10,
     "metadata": {},
     "output_type": "execute_result"
    }
   ],
   "source": [
    "data.count()"
   ]
  },
  {
   "cell_type": "markdown",
   "id": "32b8e83b",
   "metadata": {},
   "source": [
    "### .values_counts\n",
    "In a column, it shows all the unique values with their count. It can be applied on single column only."
   ]
  },
  {
   "cell_type": "code",
   "execution_count": 11,
   "id": "99a03255",
   "metadata": {},
   "outputs": [
    {
     "data": {
      "text/plain": [
       "Mainly Clear                               2106\n",
       "Mostly Cloudy                              2069\n",
       "Cloudy                                     1728\n",
       "Clear                                      1326\n",
       "Snow                                        390\n",
       "Rain                                        306\n",
       "Rain Showers                                188\n",
       "Fog                                         150\n",
       "Rain,Fog                                    116\n",
       "Drizzle,Fog                                  80\n",
       "Snow Showers                                 60\n",
       "Drizzle                                      41\n",
       "Snow,Fog                                     37\n",
       "Snow,Blowing Snow                            19\n",
       "Rain,Snow                                    18\n",
       "Thunderstorms,Rain Showers                   16\n",
       "Haze                                         16\n",
       "Drizzle,Snow,Fog                             15\n",
       "Freezing Rain                                14\n",
       "Freezing Drizzle,Snow                        11\n",
       "Freezing Drizzle                              7\n",
       "Snow,Ice Pellets                              6\n",
       "Freezing Drizzle,Fog                          6\n",
       "Snow,Haze                                     5\n",
       "Freezing Fog                                  4\n",
       "Snow Showers,Fog                              4\n",
       "Moderate Snow                                 4\n",
       "Rain,Snow,Ice Pellets                         4\n",
       "Freezing Rain,Fog                             4\n",
       "Freezing Drizzle,Haze                         3\n",
       "Rain,Haze                                     3\n",
       "Thunderstorms,Rain                            3\n",
       "Thunderstorms,Rain Showers,Fog                3\n",
       "Freezing Rain,Haze                            2\n",
       "Drizzle,Snow                                  2\n",
       "Rain Showers,Snow Showers                     2\n",
       "Thunderstorms                                 2\n",
       "Moderate Snow,Blowing Snow                    2\n",
       "Rain Showers,Fog                              1\n",
       "Thunderstorms,Moderate Rain Showers,Fog       1\n",
       "Snow Pellets                                  1\n",
       "Rain,Snow,Fog                                 1\n",
       "Moderate Rain,Fog                             1\n",
       "Freezing Rain,Ice Pellets,Fog                 1\n",
       "Drizzle,Ice Pellets,Fog                       1\n",
       "Thunderstorms,Rain,Fog                        1\n",
       "Rain,Ice Pellets                              1\n",
       "Rain,Snow Grains                              1\n",
       "Thunderstorms,Heavy Rain Showers              1\n",
       "Freezing Rain,Snow Grains                     1\n",
       "Name: Weather, dtype: int64"
      ]
     },
     "execution_count": 11,
     "metadata": {},
     "output_type": "execute_result"
    }
   ],
   "source": [
    "data['Weather'].value_counts()"
   ]
  },
  {
   "cell_type": "markdown",
   "id": "efd8e117",
   "metadata": {},
   "source": [
    "### .info()\n",
    "Provides basic information about the dataframe"
   ]
  },
  {
   "cell_type": "code",
   "execution_count": 12,
   "id": "543dc1c5",
   "metadata": {},
   "outputs": [
    {
     "name": "stdout",
     "output_type": "stream",
     "text": [
      "<class 'pandas.core.frame.DataFrame'>\n",
      "RangeIndex: 8784 entries, 0 to 8783\n",
      "Data columns (total 8 columns):\n",
      " #   Column            Non-Null Count  Dtype  \n",
      "---  ------            --------------  -----  \n",
      " 0   Date/Time         8784 non-null   object \n",
      " 1   Temp_C            8784 non-null   float64\n",
      " 2   Dew Point Temp_C  8784 non-null   float64\n",
      " 3   Rel Hum_%         8784 non-null   int64  \n",
      " 4   Wind Speed_km/h   8784 non-null   int64  \n",
      " 5   Visibility_km     8784 non-null   float64\n",
      " 6   Press_kPa         8784 non-null   float64\n",
      " 7   Weather           8784 non-null   object \n",
      "dtypes: float64(4), int64(2), object(2)\n",
      "memory usage: 549.1+ KB\n"
     ]
    }
   ],
   "source": [
    "data.info()"
   ]
  },
  {
   "cell_type": "markdown",
   "id": "87ed103b",
   "metadata": {},
   "source": [
    "### Q1. Find all the unique Wind Speed values in the data."
   ]
  },
  {
   "cell_type": "code",
   "execution_count": 13,
   "id": "1cb1e306",
   "metadata": {},
   "outputs": [
    {
     "data": {
      "text/plain": [
       "34"
      ]
     },
     "execution_count": 13,
     "metadata": {},
     "output_type": "execute_result"
    }
   ],
   "source": [
    "data['Wind Speed_km/h'].nunique()"
   ]
  },
  {
   "cell_type": "code",
   "execution_count": 14,
   "id": "b21dcf92",
   "metadata": {},
   "outputs": [
    {
     "data": {
      "text/plain": [
       "array([ 4,  7,  6,  9, 15, 13, 20, 22, 19, 24, 30, 35, 39, 32, 33, 26, 44,\n",
       "       43, 48, 37, 28, 17, 11,  0, 83, 70, 57, 46, 41, 52, 50, 63, 54,  2],\n",
       "      dtype=int64)"
      ]
     },
     "execution_count": 14,
     "metadata": {},
     "output_type": "execute_result"
    }
   ],
   "source": [
    "data['Wind Speed_km/h'].unique() # Answer"
   ]
  },
  {
   "cell_type": "markdown",
   "id": "28d78558",
   "metadata": {},
   "source": [
    "### Q2. Find the no. of times when the Weather is exactly clear."
   ]
  },
  {
   "cell_type": "code",
   "execution_count": 15,
   "id": "cfeb10db",
   "metadata": {},
   "outputs": [
    {
     "data": {
      "text/html": [
       "<div>\n",
       "<style scoped>\n",
       "    .dataframe tbody tr th:only-of-type {\n",
       "        vertical-align: middle;\n",
       "    }\n",
       "\n",
       "    .dataframe tbody tr th {\n",
       "        vertical-align: top;\n",
       "    }\n",
       "\n",
       "    .dataframe thead th {\n",
       "        text-align: right;\n",
       "    }\n",
       "</style>\n",
       "<table border=\"1\" class=\"dataframe\">\n",
       "  <thead>\n",
       "    <tr style=\"text-align: right;\">\n",
       "      <th></th>\n",
       "      <th>Date/Time</th>\n",
       "      <th>Temp_C</th>\n",
       "      <th>Dew Point Temp_C</th>\n",
       "      <th>Rel Hum_%</th>\n",
       "      <th>Wind Speed_km/h</th>\n",
       "      <th>Visibility_km</th>\n",
       "      <th>Press_kPa</th>\n",
       "      <th>Weather</th>\n",
       "    </tr>\n",
       "  </thead>\n",
       "  <tbody>\n",
       "    <tr>\n",
       "      <th>0</th>\n",
       "      <td>1/1/2012 0:00</td>\n",
       "      <td>-1.8</td>\n",
       "      <td>-3.9</td>\n",
       "      <td>86</td>\n",
       "      <td>4</td>\n",
       "      <td>8.0</td>\n",
       "      <td>101.24</td>\n",
       "      <td>Fog</td>\n",
       "    </tr>\n",
       "    <tr>\n",
       "      <th>1</th>\n",
       "      <td>1/1/2012 1:00</td>\n",
       "      <td>-1.8</td>\n",
       "      <td>-3.7</td>\n",
       "      <td>87</td>\n",
       "      <td>4</td>\n",
       "      <td>8.0</td>\n",
       "      <td>101.24</td>\n",
       "      <td>Fog</td>\n",
       "    </tr>\n",
       "  </tbody>\n",
       "</table>\n",
       "</div>"
      ],
      "text/plain": [
       "       Date/Time  Temp_C  Dew Point Temp_C  Rel Hum_%  Wind Speed_km/h  \\\n",
       "0  1/1/2012 0:00    -1.8              -3.9         86                4   \n",
       "1  1/1/2012 1:00    -1.8              -3.7         87                4   \n",
       "\n",
       "   Visibility_km  Press_kPa Weather  \n",
       "0            8.0     101.24     Fog  \n",
       "1            8.0     101.24     Fog  "
      ]
     },
     "execution_count": 15,
     "metadata": {},
     "output_type": "execute_result"
    }
   ],
   "source": [
    "data.head(2)"
   ]
  },
  {
   "cell_type": "code",
   "execution_count": 16,
   "id": "4b026107",
   "metadata": {},
   "outputs": [
    {
     "data": {
      "text/plain": [
       "Mainly Clear                               2106\n",
       "Mostly Cloudy                              2069\n",
       "Cloudy                                     1728\n",
       "Clear                                      1326\n",
       "Snow                                        390\n",
       "Rain                                        306\n",
       "Rain Showers                                188\n",
       "Fog                                         150\n",
       "Rain,Fog                                    116\n",
       "Drizzle,Fog                                  80\n",
       "Snow Showers                                 60\n",
       "Drizzle                                      41\n",
       "Snow,Fog                                     37\n",
       "Snow,Blowing Snow                            19\n",
       "Rain,Snow                                    18\n",
       "Thunderstorms,Rain Showers                   16\n",
       "Haze                                         16\n",
       "Drizzle,Snow,Fog                             15\n",
       "Freezing Rain                                14\n",
       "Freezing Drizzle,Snow                        11\n",
       "Freezing Drizzle                              7\n",
       "Snow,Ice Pellets                              6\n",
       "Freezing Drizzle,Fog                          6\n",
       "Snow,Haze                                     5\n",
       "Freezing Fog                                  4\n",
       "Snow Showers,Fog                              4\n",
       "Moderate Snow                                 4\n",
       "Rain,Snow,Ice Pellets                         4\n",
       "Freezing Rain,Fog                             4\n",
       "Freezing Drizzle,Haze                         3\n",
       "Rain,Haze                                     3\n",
       "Thunderstorms,Rain                            3\n",
       "Thunderstorms,Rain Showers,Fog                3\n",
       "Freezing Rain,Haze                            2\n",
       "Drizzle,Snow                                  2\n",
       "Rain Showers,Snow Showers                     2\n",
       "Thunderstorms                                 2\n",
       "Moderate Snow,Blowing Snow                    2\n",
       "Rain Showers,Fog                              1\n",
       "Thunderstorms,Moderate Rain Showers,Fog       1\n",
       "Snow Pellets                                  1\n",
       "Rain,Snow,Fog                                 1\n",
       "Moderate Rain,Fog                             1\n",
       "Freezing Rain,Ice Pellets,Fog                 1\n",
       "Drizzle,Ice Pellets,Fog                       1\n",
       "Thunderstorms,Rain,Fog                        1\n",
       "Rain,Ice Pellets                              1\n",
       "Rain,Snow Grains                              1\n",
       "Thunderstorms,Heavy Rain Showers              1\n",
       "Freezing Rain,Snow Grains                     1\n",
       "Name: Weather, dtype: int64"
      ]
     },
     "execution_count": 16,
     "metadata": {},
     "output_type": "execute_result"
    }
   ],
   "source": [
    "# value_counts()\n",
    "data.Weather.value_counts()"
   ]
  },
  {
   "cell_type": "code",
   "execution_count": 17,
   "id": "3e8e5a7b",
   "metadata": {},
   "outputs": [
    {
     "data": {
      "text/html": [
       "<div>\n",
       "<style scoped>\n",
       "    .dataframe tbody tr th:only-of-type {\n",
       "        vertical-align: middle;\n",
       "    }\n",
       "\n",
       "    .dataframe tbody tr th {\n",
       "        vertical-align: top;\n",
       "    }\n",
       "\n",
       "    .dataframe thead th {\n",
       "        text-align: right;\n",
       "    }\n",
       "</style>\n",
       "<table border=\"1\" class=\"dataframe\">\n",
       "  <thead>\n",
       "    <tr style=\"text-align: right;\">\n",
       "      <th></th>\n",
       "      <th>Date/Time</th>\n",
       "      <th>Temp_C</th>\n",
       "      <th>Dew Point Temp_C</th>\n",
       "      <th>Rel Hum_%</th>\n",
       "      <th>Wind Speed_km/h</th>\n",
       "      <th>Visibility_km</th>\n",
       "      <th>Press_kPa</th>\n",
       "      <th>Weather</th>\n",
       "    </tr>\n",
       "  </thead>\n",
       "  <tbody>\n",
       "    <tr>\n",
       "      <th>67</th>\n",
       "      <td>1/3/2012 19:00</td>\n",
       "      <td>-16.9</td>\n",
       "      <td>-24.8</td>\n",
       "      <td>50</td>\n",
       "      <td>24</td>\n",
       "      <td>25.0</td>\n",
       "      <td>101.74</td>\n",
       "      <td>Clear</td>\n",
       "    </tr>\n",
       "    <tr>\n",
       "      <th>114</th>\n",
       "      <td>1/5/2012 18:00</td>\n",
       "      <td>-7.1</td>\n",
       "      <td>-14.4</td>\n",
       "      <td>56</td>\n",
       "      <td>11</td>\n",
       "      <td>25.0</td>\n",
       "      <td>100.71</td>\n",
       "      <td>Clear</td>\n",
       "    </tr>\n",
       "    <tr>\n",
       "      <th>115</th>\n",
       "      <td>1/5/2012 19:00</td>\n",
       "      <td>-9.2</td>\n",
       "      <td>-15.4</td>\n",
       "      <td>61</td>\n",
       "      <td>7</td>\n",
       "      <td>25.0</td>\n",
       "      <td>100.80</td>\n",
       "      <td>Clear</td>\n",
       "    </tr>\n",
       "    <tr>\n",
       "      <th>116</th>\n",
       "      <td>1/5/2012 20:00</td>\n",
       "      <td>-9.8</td>\n",
       "      <td>-15.7</td>\n",
       "      <td>62</td>\n",
       "      <td>9</td>\n",
       "      <td>25.0</td>\n",
       "      <td>100.83</td>\n",
       "      <td>Clear</td>\n",
       "    </tr>\n",
       "    <tr>\n",
       "      <th>117</th>\n",
       "      <td>1/5/2012 21:00</td>\n",
       "      <td>-9.0</td>\n",
       "      <td>-14.8</td>\n",
       "      <td>63</td>\n",
       "      <td>13</td>\n",
       "      <td>25.0</td>\n",
       "      <td>100.83</td>\n",
       "      <td>Clear</td>\n",
       "    </tr>\n",
       "    <tr>\n",
       "      <th>...</th>\n",
       "      <td>...</td>\n",
       "      <td>...</td>\n",
       "      <td>...</td>\n",
       "      <td>...</td>\n",
       "      <td>...</td>\n",
       "      <td>...</td>\n",
       "      <td>...</td>\n",
       "      <td>...</td>\n",
       "    </tr>\n",
       "    <tr>\n",
       "      <th>8646</th>\n",
       "      <td>12/26/2012 6:00</td>\n",
       "      <td>-13.4</td>\n",
       "      <td>-14.8</td>\n",
       "      <td>89</td>\n",
       "      <td>4</td>\n",
       "      <td>25.0</td>\n",
       "      <td>102.47</td>\n",
       "      <td>Clear</td>\n",
       "    </tr>\n",
       "    <tr>\n",
       "      <th>8698</th>\n",
       "      <td>12/28/2012 10:00</td>\n",
       "      <td>-6.1</td>\n",
       "      <td>-8.6</td>\n",
       "      <td>82</td>\n",
       "      <td>19</td>\n",
       "      <td>24.1</td>\n",
       "      <td>101.27</td>\n",
       "      <td>Clear</td>\n",
       "    </tr>\n",
       "    <tr>\n",
       "      <th>8713</th>\n",
       "      <td>12/29/2012 1:00</td>\n",
       "      <td>-11.9</td>\n",
       "      <td>-13.6</td>\n",
       "      <td>87</td>\n",
       "      <td>11</td>\n",
       "      <td>25.0</td>\n",
       "      <td>101.31</td>\n",
       "      <td>Clear</td>\n",
       "    </tr>\n",
       "    <tr>\n",
       "      <th>8714</th>\n",
       "      <td>12/29/2012 2:00</td>\n",
       "      <td>-11.8</td>\n",
       "      <td>-13.1</td>\n",
       "      <td>90</td>\n",
       "      <td>13</td>\n",
       "      <td>25.0</td>\n",
       "      <td>101.33</td>\n",
       "      <td>Clear</td>\n",
       "    </tr>\n",
       "    <tr>\n",
       "      <th>8756</th>\n",
       "      <td>12/30/2012 20:00</td>\n",
       "      <td>-13.8</td>\n",
       "      <td>-16.5</td>\n",
       "      <td>80</td>\n",
       "      <td>24</td>\n",
       "      <td>25.0</td>\n",
       "      <td>101.52</td>\n",
       "      <td>Clear</td>\n",
       "    </tr>\n",
       "  </tbody>\n",
       "</table>\n",
       "<p>1326 rows × 8 columns</p>\n",
       "</div>"
      ],
      "text/plain": [
       "             Date/Time  Temp_C  Dew Point Temp_C  Rel Hum_%  Wind Speed_km/h  \\\n",
       "67      1/3/2012 19:00   -16.9             -24.8         50               24   \n",
       "114     1/5/2012 18:00    -7.1             -14.4         56               11   \n",
       "115     1/5/2012 19:00    -9.2             -15.4         61                7   \n",
       "116     1/5/2012 20:00    -9.8             -15.7         62                9   \n",
       "117     1/5/2012 21:00    -9.0             -14.8         63               13   \n",
       "...                ...     ...               ...        ...              ...   \n",
       "8646   12/26/2012 6:00   -13.4             -14.8         89                4   \n",
       "8698  12/28/2012 10:00    -6.1              -8.6         82               19   \n",
       "8713   12/29/2012 1:00   -11.9             -13.6         87               11   \n",
       "8714   12/29/2012 2:00   -11.8             -13.1         90               13   \n",
       "8756  12/30/2012 20:00   -13.8             -16.5         80               24   \n",
       "\n",
       "      Visibility_km  Press_kPa Weather  \n",
       "67             25.0     101.74   Clear  \n",
       "114            25.0     100.71   Clear  \n",
       "115            25.0     100.80   Clear  \n",
       "116            25.0     100.83   Clear  \n",
       "117            25.0     100.83   Clear  \n",
       "...             ...        ...     ...  \n",
       "8646           25.0     102.47   Clear  \n",
       "8698           24.1     101.27   Clear  \n",
       "8713           25.0     101.31   Clear  \n",
       "8714           25.0     101.33   Clear  \n",
       "8756           25.0     101.52   Clear  \n",
       "\n",
       "[1326 rows x 8 columns]"
      ]
     },
     "execution_count": 17,
     "metadata": {},
     "output_type": "execute_result"
    }
   ],
   "source": [
    "# Filtering\n",
    "#data.head(2)\n",
    "data[data.Weather == 'Clear']"
   ]
  },
  {
   "cell_type": "code",
   "execution_count": 18,
   "id": "940ce771",
   "metadata": {},
   "outputs": [
    {
     "data": {
      "text/html": [
       "<div>\n",
       "<style scoped>\n",
       "    .dataframe tbody tr th:only-of-type {\n",
       "        vertical-align: middle;\n",
       "    }\n",
       "\n",
       "    .dataframe tbody tr th {\n",
       "        vertical-align: top;\n",
       "    }\n",
       "\n",
       "    .dataframe thead th {\n",
       "        text-align: right;\n",
       "    }\n",
       "</style>\n",
       "<table border=\"1\" class=\"dataframe\">\n",
       "  <thead>\n",
       "    <tr style=\"text-align: right;\">\n",
       "      <th></th>\n",
       "      <th>Date/Time</th>\n",
       "      <th>Temp_C</th>\n",
       "      <th>Dew Point Temp_C</th>\n",
       "      <th>Rel Hum_%</th>\n",
       "      <th>Wind Speed_km/h</th>\n",
       "      <th>Visibility_km</th>\n",
       "      <th>Press_kPa</th>\n",
       "      <th>Weather</th>\n",
       "    </tr>\n",
       "  </thead>\n",
       "  <tbody>\n",
       "    <tr>\n",
       "      <th>67</th>\n",
       "      <td>1/3/2012 19:00</td>\n",
       "      <td>-16.9</td>\n",
       "      <td>-24.8</td>\n",
       "      <td>50</td>\n",
       "      <td>24</td>\n",
       "      <td>25.0</td>\n",
       "      <td>101.74</td>\n",
       "      <td>Clear</td>\n",
       "    </tr>\n",
       "    <tr>\n",
       "      <th>114</th>\n",
       "      <td>1/5/2012 18:00</td>\n",
       "      <td>-7.1</td>\n",
       "      <td>-14.4</td>\n",
       "      <td>56</td>\n",
       "      <td>11</td>\n",
       "      <td>25.0</td>\n",
       "      <td>100.71</td>\n",
       "      <td>Clear</td>\n",
       "    </tr>\n",
       "    <tr>\n",
       "      <th>115</th>\n",
       "      <td>1/5/2012 19:00</td>\n",
       "      <td>-9.2</td>\n",
       "      <td>-15.4</td>\n",
       "      <td>61</td>\n",
       "      <td>7</td>\n",
       "      <td>25.0</td>\n",
       "      <td>100.80</td>\n",
       "      <td>Clear</td>\n",
       "    </tr>\n",
       "    <tr>\n",
       "      <th>116</th>\n",
       "      <td>1/5/2012 20:00</td>\n",
       "      <td>-9.8</td>\n",
       "      <td>-15.7</td>\n",
       "      <td>62</td>\n",
       "      <td>9</td>\n",
       "      <td>25.0</td>\n",
       "      <td>100.83</td>\n",
       "      <td>Clear</td>\n",
       "    </tr>\n",
       "    <tr>\n",
       "      <th>117</th>\n",
       "      <td>1/5/2012 21:00</td>\n",
       "      <td>-9.0</td>\n",
       "      <td>-14.8</td>\n",
       "      <td>63</td>\n",
       "      <td>13</td>\n",
       "      <td>25.0</td>\n",
       "      <td>100.83</td>\n",
       "      <td>Clear</td>\n",
       "    </tr>\n",
       "    <tr>\n",
       "      <th>...</th>\n",
       "      <td>...</td>\n",
       "      <td>...</td>\n",
       "      <td>...</td>\n",
       "      <td>...</td>\n",
       "      <td>...</td>\n",
       "      <td>...</td>\n",
       "      <td>...</td>\n",
       "      <td>...</td>\n",
       "    </tr>\n",
       "    <tr>\n",
       "      <th>8646</th>\n",
       "      <td>12/26/2012 6:00</td>\n",
       "      <td>-13.4</td>\n",
       "      <td>-14.8</td>\n",
       "      <td>89</td>\n",
       "      <td>4</td>\n",
       "      <td>25.0</td>\n",
       "      <td>102.47</td>\n",
       "      <td>Clear</td>\n",
       "    </tr>\n",
       "    <tr>\n",
       "      <th>8698</th>\n",
       "      <td>12/28/2012 10:00</td>\n",
       "      <td>-6.1</td>\n",
       "      <td>-8.6</td>\n",
       "      <td>82</td>\n",
       "      <td>19</td>\n",
       "      <td>24.1</td>\n",
       "      <td>101.27</td>\n",
       "      <td>Clear</td>\n",
       "    </tr>\n",
       "    <tr>\n",
       "      <th>8713</th>\n",
       "      <td>12/29/2012 1:00</td>\n",
       "      <td>-11.9</td>\n",
       "      <td>-13.6</td>\n",
       "      <td>87</td>\n",
       "      <td>11</td>\n",
       "      <td>25.0</td>\n",
       "      <td>101.31</td>\n",
       "      <td>Clear</td>\n",
       "    </tr>\n",
       "    <tr>\n",
       "      <th>8714</th>\n",
       "      <td>12/29/2012 2:00</td>\n",
       "      <td>-11.8</td>\n",
       "      <td>-13.1</td>\n",
       "      <td>90</td>\n",
       "      <td>13</td>\n",
       "      <td>25.0</td>\n",
       "      <td>101.33</td>\n",
       "      <td>Clear</td>\n",
       "    </tr>\n",
       "    <tr>\n",
       "      <th>8756</th>\n",
       "      <td>12/30/2012 20:00</td>\n",
       "      <td>-13.8</td>\n",
       "      <td>-16.5</td>\n",
       "      <td>80</td>\n",
       "      <td>24</td>\n",
       "      <td>25.0</td>\n",
       "      <td>101.52</td>\n",
       "      <td>Clear</td>\n",
       "    </tr>\n",
       "  </tbody>\n",
       "</table>\n",
       "<p>1326 rows × 8 columns</p>\n",
       "</div>"
      ],
      "text/plain": [
       "             Date/Time  Temp_C  Dew Point Temp_C  Rel Hum_%  Wind Speed_km/h  \\\n",
       "67      1/3/2012 19:00   -16.9             -24.8         50               24   \n",
       "114     1/5/2012 18:00    -7.1             -14.4         56               11   \n",
       "115     1/5/2012 19:00    -9.2             -15.4         61                7   \n",
       "116     1/5/2012 20:00    -9.8             -15.7         62                9   \n",
       "117     1/5/2012 21:00    -9.0             -14.8         63               13   \n",
       "...                ...     ...               ...        ...              ...   \n",
       "8646   12/26/2012 6:00   -13.4             -14.8         89                4   \n",
       "8698  12/28/2012 10:00    -6.1              -8.6         82               19   \n",
       "8713   12/29/2012 1:00   -11.9             -13.6         87               11   \n",
       "8714   12/29/2012 2:00   -11.8             -13.1         90               13   \n",
       "8756  12/30/2012 20:00   -13.8             -16.5         80               24   \n",
       "\n",
       "      Visibility_km  Press_kPa Weather  \n",
       "67             25.0     101.74   Clear  \n",
       "114            25.0     100.71   Clear  \n",
       "115            25.0     100.80   Clear  \n",
       "116            25.0     100.83   Clear  \n",
       "117            25.0     100.83   Clear  \n",
       "...             ...        ...     ...  \n",
       "8646           25.0     102.47   Clear  \n",
       "8698           24.1     101.27   Clear  \n",
       "8713           25.0     101.31   Clear  \n",
       "8714           25.0     101.33   Clear  \n",
       "8756           25.0     101.52   Clear  \n",
       "\n",
       "[1326 rows x 8 columns]"
      ]
     },
     "execution_count": 18,
     "metadata": {},
     "output_type": "execute_result"
    }
   ],
   "source": [
    "# Groupby()\n",
    "# data.head(2)\n",
    "data.groupby('Weather').get_group('Clear')"
   ]
  },
  {
   "cell_type": "markdown",
   "id": "720d106e",
   "metadata": {},
   "source": [
    "### Q3. Find the number of times when the \"Wind Speed was exactly 4 km/h.\""
   ]
  },
  {
   "cell_type": "code",
   "execution_count": 19,
   "id": "a3150819",
   "metadata": {},
   "outputs": [
    {
     "data": {
      "text/html": [
       "<div>\n",
       "<style scoped>\n",
       "    .dataframe tbody tr th:only-of-type {\n",
       "        vertical-align: middle;\n",
       "    }\n",
       "\n",
       "    .dataframe tbody tr th {\n",
       "        vertical-align: top;\n",
       "    }\n",
       "\n",
       "    .dataframe thead th {\n",
       "        text-align: right;\n",
       "    }\n",
       "</style>\n",
       "<table border=\"1\" class=\"dataframe\">\n",
       "  <thead>\n",
       "    <tr style=\"text-align: right;\">\n",
       "      <th></th>\n",
       "      <th>Date/Time</th>\n",
       "      <th>Temp_C</th>\n",
       "      <th>Dew Point Temp_C</th>\n",
       "      <th>Rel Hum_%</th>\n",
       "      <th>Wind Speed_km/h</th>\n",
       "      <th>Visibility_km</th>\n",
       "      <th>Press_kPa</th>\n",
       "      <th>Weather</th>\n",
       "    </tr>\n",
       "  </thead>\n",
       "  <tbody>\n",
       "    <tr>\n",
       "      <th>0</th>\n",
       "      <td>1/1/2012 0:00</td>\n",
       "      <td>-1.8</td>\n",
       "      <td>-3.9</td>\n",
       "      <td>86</td>\n",
       "      <td>4</td>\n",
       "      <td>8.0</td>\n",
       "      <td>101.24</td>\n",
       "      <td>Fog</td>\n",
       "    </tr>\n",
       "    <tr>\n",
       "      <th>1</th>\n",
       "      <td>1/1/2012 1:00</td>\n",
       "      <td>-1.8</td>\n",
       "      <td>-3.7</td>\n",
       "      <td>87</td>\n",
       "      <td>4</td>\n",
       "      <td>8.0</td>\n",
       "      <td>101.24</td>\n",
       "      <td>Fog</td>\n",
       "    </tr>\n",
       "  </tbody>\n",
       "</table>\n",
       "</div>"
      ],
      "text/plain": [
       "       Date/Time  Temp_C  Dew Point Temp_C  Rel Hum_%  Wind Speed_km/h  \\\n",
       "0  1/1/2012 0:00    -1.8              -3.9         86                4   \n",
       "1  1/1/2012 1:00    -1.8              -3.7         87                4   \n",
       "\n",
       "   Visibility_km  Press_kPa Weather  \n",
       "0            8.0     101.24     Fog  \n",
       "1            8.0     101.24     Fog  "
      ]
     },
     "execution_count": 19,
     "metadata": {},
     "output_type": "execute_result"
    }
   ],
   "source": [
    "data.head(2)"
   ]
  },
  {
   "cell_type": "code",
   "execution_count": 20,
   "id": "8e69ccfa",
   "metadata": {},
   "outputs": [
    {
     "data": {
      "text/html": [
       "<div>\n",
       "<style scoped>\n",
       "    .dataframe tbody tr th:only-of-type {\n",
       "        vertical-align: middle;\n",
       "    }\n",
       "\n",
       "    .dataframe tbody tr th {\n",
       "        vertical-align: top;\n",
       "    }\n",
       "\n",
       "    .dataframe thead th {\n",
       "        text-align: right;\n",
       "    }\n",
       "</style>\n",
       "<table border=\"1\" class=\"dataframe\">\n",
       "  <thead>\n",
       "    <tr style=\"text-align: right;\">\n",
       "      <th></th>\n",
       "      <th>Date/Time</th>\n",
       "      <th>Temp_C</th>\n",
       "      <th>Dew Point Temp_C</th>\n",
       "      <th>Rel Hum_%</th>\n",
       "      <th>Wind Speed_km/h</th>\n",
       "      <th>Visibility_km</th>\n",
       "      <th>Press_kPa</th>\n",
       "      <th>Weather</th>\n",
       "    </tr>\n",
       "  </thead>\n",
       "  <tbody>\n",
       "    <tr>\n",
       "      <th>0</th>\n",
       "      <td>1/1/2012 0:00</td>\n",
       "      <td>-1.8</td>\n",
       "      <td>-3.9</td>\n",
       "      <td>86</td>\n",
       "      <td>4</td>\n",
       "      <td>8.0</td>\n",
       "      <td>101.24</td>\n",
       "      <td>Fog</td>\n",
       "    </tr>\n",
       "    <tr>\n",
       "      <th>1</th>\n",
       "      <td>1/1/2012 1:00</td>\n",
       "      <td>-1.8</td>\n",
       "      <td>-3.7</td>\n",
       "      <td>87</td>\n",
       "      <td>4</td>\n",
       "      <td>8.0</td>\n",
       "      <td>101.24</td>\n",
       "      <td>Fog</td>\n",
       "    </tr>\n",
       "    <tr>\n",
       "      <th>96</th>\n",
       "      <td>1/5/2012 0:00</td>\n",
       "      <td>-8.8</td>\n",
       "      <td>-11.7</td>\n",
       "      <td>79</td>\n",
       "      <td>4</td>\n",
       "      <td>9.7</td>\n",
       "      <td>100.32</td>\n",
       "      <td>Snow</td>\n",
       "    </tr>\n",
       "    <tr>\n",
       "      <th>101</th>\n",
       "      <td>1/5/2012 5:00</td>\n",
       "      <td>-7.0</td>\n",
       "      <td>-9.5</td>\n",
       "      <td>82</td>\n",
       "      <td>4</td>\n",
       "      <td>4.0</td>\n",
       "      <td>100.19</td>\n",
       "      <td>Snow</td>\n",
       "    </tr>\n",
       "    <tr>\n",
       "      <th>146</th>\n",
       "      <td>1/7/2012 2:00</td>\n",
       "      <td>-8.1</td>\n",
       "      <td>-11.1</td>\n",
       "      <td>79</td>\n",
       "      <td>4</td>\n",
       "      <td>19.3</td>\n",
       "      <td>100.15</td>\n",
       "      <td>Cloudy</td>\n",
       "    </tr>\n",
       "    <tr>\n",
       "      <th>...</th>\n",
       "      <td>...</td>\n",
       "      <td>...</td>\n",
       "      <td>...</td>\n",
       "      <td>...</td>\n",
       "      <td>...</td>\n",
       "      <td>...</td>\n",
       "      <td>...</td>\n",
       "      <td>...</td>\n",
       "    </tr>\n",
       "    <tr>\n",
       "      <th>8768</th>\n",
       "      <td>12/31/2012 8:00</td>\n",
       "      <td>-8.6</td>\n",
       "      <td>-10.3</td>\n",
       "      <td>87</td>\n",
       "      <td>4</td>\n",
       "      <td>3.2</td>\n",
       "      <td>101.14</td>\n",
       "      <td>Snow Showers</td>\n",
       "    </tr>\n",
       "    <tr>\n",
       "      <th>8769</th>\n",
       "      <td>12/31/2012 9:00</td>\n",
       "      <td>-8.1</td>\n",
       "      <td>-9.6</td>\n",
       "      <td>89</td>\n",
       "      <td>4</td>\n",
       "      <td>2.4</td>\n",
       "      <td>101.09</td>\n",
       "      <td>Snow</td>\n",
       "    </tr>\n",
       "    <tr>\n",
       "      <th>8770</th>\n",
       "      <td>12/31/2012 10:00</td>\n",
       "      <td>-7.4</td>\n",
       "      <td>-8.9</td>\n",
       "      <td>89</td>\n",
       "      <td>4</td>\n",
       "      <td>6.4</td>\n",
       "      <td>101.05</td>\n",
       "      <td>Snow,Fog</td>\n",
       "    </tr>\n",
       "    <tr>\n",
       "      <th>8772</th>\n",
       "      <td>12/31/2012 12:00</td>\n",
       "      <td>-5.8</td>\n",
       "      <td>-7.5</td>\n",
       "      <td>88</td>\n",
       "      <td>4</td>\n",
       "      <td>12.9</td>\n",
       "      <td>100.78</td>\n",
       "      <td>Snow</td>\n",
       "    </tr>\n",
       "    <tr>\n",
       "      <th>8773</th>\n",
       "      <td>12/31/2012 13:00</td>\n",
       "      <td>-4.6</td>\n",
       "      <td>-6.6</td>\n",
       "      <td>86</td>\n",
       "      <td>4</td>\n",
       "      <td>12.9</td>\n",
       "      <td>100.63</td>\n",
       "      <td>Snow</td>\n",
       "    </tr>\n",
       "  </tbody>\n",
       "</table>\n",
       "<p>474 rows × 8 columns</p>\n",
       "</div>"
      ],
      "text/plain": [
       "             Date/Time  Temp_C  Dew Point Temp_C  Rel Hum_%  Wind Speed_km/h  \\\n",
       "0        1/1/2012 0:00    -1.8              -3.9         86                4   \n",
       "1        1/1/2012 1:00    -1.8              -3.7         87                4   \n",
       "96       1/5/2012 0:00    -8.8             -11.7         79                4   \n",
       "101      1/5/2012 5:00    -7.0              -9.5         82                4   \n",
       "146      1/7/2012 2:00    -8.1             -11.1         79                4   \n",
       "...                ...     ...               ...        ...              ...   \n",
       "8768   12/31/2012 8:00    -8.6             -10.3         87                4   \n",
       "8769   12/31/2012 9:00    -8.1              -9.6         89                4   \n",
       "8770  12/31/2012 10:00    -7.4              -8.9         89                4   \n",
       "8772  12/31/2012 12:00    -5.8              -7.5         88                4   \n",
       "8773  12/31/2012 13:00    -4.6              -6.6         86                4   \n",
       "\n",
       "      Visibility_km  Press_kPa       Weather  \n",
       "0               8.0     101.24           Fog  \n",
       "1               8.0     101.24           Fog  \n",
       "96              9.7     100.32          Snow  \n",
       "101             4.0     100.19          Snow  \n",
       "146            19.3     100.15        Cloudy  \n",
       "...             ...        ...           ...  \n",
       "8768            3.2     101.14  Snow Showers  \n",
       "8769            2.4     101.09          Snow  \n",
       "8770            6.4     101.05      Snow,Fog  \n",
       "8772           12.9     100.78          Snow  \n",
       "8773           12.9     100.63          Snow  \n",
       "\n",
       "[474 rows x 8 columns]"
      ]
     },
     "execution_count": 20,
     "metadata": {},
     "output_type": "execute_result"
    }
   ],
   "source": [
    "data[data['Wind Speed_km/h'] == 4] # Answer"
   ]
  },
  {
   "cell_type": "markdown",
   "id": "40725431",
   "metadata": {},
   "source": [
    "### Q4. Find out all the null values in the data."
   ]
  },
  {
   "cell_type": "code",
   "execution_count": 21,
   "id": "bf2d836c",
   "metadata": {},
   "outputs": [
    {
     "name": "stdout",
     "output_type": "stream",
     "text": [
      "Empty DataFrame\n",
      "Columns: [Date/Time, Temp_C, Dew Point Temp_C, Rel Hum_%, Wind Speed_km/h, Visibility_km, Press_kPa, Weather]\n",
      "Index: []\n"
     ]
    }
   ],
   "source": [
    "all_null = data[data.isna().any(axis=1)]\n",
    "print(all_null)"
   ]
  },
  {
   "cell_type": "markdown",
   "id": "aa75eb44",
   "metadata": {},
   "source": [
    "### Q5. Rename the column name Weather of the dataframe to Weather Condition."
   ]
  },
  {
   "cell_type": "code",
   "execution_count": 22,
   "id": "358005d8",
   "metadata": {},
   "outputs": [
    {
     "name": "stdout",
     "output_type": "stream",
     "text": [
      "\n",
      "Rename done\n",
      "\n",
      "             Date/Time  Temp_C  Dew Point Temp_C  Rel Hum_%  Wind Speed_km/h  \\\n",
      "0        1/1/2012 0:00    -1.8              -3.9         86                4   \n",
      "1        1/1/2012 1:00    -1.8              -3.7         87                4   \n",
      "2        1/1/2012 2:00    -1.8              -3.4         89                7   \n",
      "3        1/1/2012 3:00    -1.5              -3.2         88                6   \n",
      "4        1/1/2012 4:00    -1.5              -3.3         88                7   \n",
      "...                ...     ...               ...        ...              ...   \n",
      "8779  12/31/2012 19:00     0.1              -2.7         81               30   \n",
      "8780  12/31/2012 20:00     0.2              -2.4         83               24   \n",
      "8781  12/31/2012 21:00    -0.5              -1.5         93               28   \n",
      "8782  12/31/2012 22:00    -0.2              -1.8         89               28   \n",
      "8783  12/31/2012 23:00     0.0              -2.1         86               30   \n",
      "\n",
      "      Visibility_km  Press_kPa     Weather Condition  \n",
      "0               8.0     101.24                   Fog  \n",
      "1               8.0     101.24                   Fog  \n",
      "2               4.0     101.26  Freezing Drizzle,Fog  \n",
      "3               4.0     101.27  Freezing Drizzle,Fog  \n",
      "4               4.8     101.23                   Fog  \n",
      "...             ...        ...                   ...  \n",
      "8779            9.7     100.13                  Snow  \n",
      "8780            9.7     100.03                  Snow  \n",
      "8781            4.8      99.95                  Snow  \n",
      "8782            9.7      99.91                  Snow  \n",
      "8783           11.3      99.89                  Snow  \n",
      "\n",
      "[8784 rows x 8 columns]\n"
     ]
    }
   ],
   "source": [
    "dict = {'Weather': 'Weather Condition'}\n",
    "print(\"\\nRename done\\n\")\n",
    "data.rename(columns=dict, inplace=True)\n",
    "print(data)"
   ]
  },
  {
   "cell_type": "markdown",
   "id": "9d1e5cec",
   "metadata": {},
   "source": [
    "### Q6. What is the mean 'Visibility'?"
   ]
  },
  {
   "cell_type": "code",
   "execution_count": 23,
   "id": "0d9ec78b",
   "metadata": {},
   "outputs": [
    {
     "name": "stdout",
     "output_type": "stream",
     "text": [
      "mean Visibility 27.664446721311478\n"
     ]
    }
   ],
   "source": [
    "print(\"mean Visibility\",data['Visibility_km'].mean())"
   ]
  },
  {
   "cell_type": "markdown",
   "id": "48eca2c9",
   "metadata": {},
   "source": [
    "### Q7. What is the standard deviation of Pressure in this data?"
   ]
  },
  {
   "cell_type": "code",
   "execution_count": 24,
   "id": "38a9e816",
   "metadata": {},
   "outputs": [
    {
     "name": "stdout",
     "output_type": "stream",
     "text": [
      "standard deviation of Pressure 0.8440047459486483\n"
     ]
    }
   ],
   "source": [
    "print(\"standard deviation of Pressure\", data[\"Press_kPa\"].std())"
   ]
  },
  {
   "attachments": {},
   "cell_type": "markdown",
   "id": "ebaf129c",
   "metadata": {},
   "source": [
    "### Q8. What is the Variance of Relative Humidity in this data?"
   ]
  },
  {
   "cell_type": "code",
   "execution_count": 25,
   "id": "ecff19c4",
   "metadata": {},
   "outputs": [
    {
     "name": "stdout",
     "output_type": "stream",
     "text": [
      "Variance of Relative Humidity 286.21596270417155\n"
     ]
    }
   ],
   "source": [
    "print(\"Variance of Relative Humidity\", np.var(data['Rel Hum_%']))"
   ]
  },
  {
   "attachments": {},
   "cell_type": "markdown",
   "id": "3376b82a",
   "metadata": {},
   "source": [
    "### Q9. Find all instances when snow was recorded."
   ]
  },
  {
   "cell_type": "code",
   "execution_count": 26,
   "id": "380ec299",
   "metadata": {},
   "outputs": [
    {
     "name": "stdout",
     "output_type": "stream",
     "text": [
      "For loop\n",
      " 583 [Date/Time            1/2/2012 17:00\n",
      "Temp_C                         -2.1\n",
      "Dew Point Temp_C               -9.5\n",
      "Rel Hum_%                        57\n",
      "Wind Speed_km/h                  22\n",
      "Visibility_km                  25.0\n",
      "Press_kPa                     99.66\n",
      "Weather Condition      Snow Showers\n",
      "Name: 41, dtype: object, Date/Time            1/2/2012 20:00\n",
      "Temp_C                         -5.6\n",
      "Dew Point Temp_C              -13.4\n",
      "Rel Hum_%                        54\n",
      "Wind Speed_km/h                  24\n",
      "Visibility_km                  25.0\n",
      "Press_kPa                    100.07\n",
      "Weather Condition      Snow Showers\n",
      "Name: 44, dtype: object, Date/Time            1/2/2012 21:00\n",
      "Temp_C                         -5.8\n",
      "Dew Point Temp_C              -12.8\n",
      "Rel Hum_%                        58\n",
      "Wind Speed_km/h                  26\n",
      "Visibility_km                  25.0\n",
      "Press_kPa                    100.15\n",
      "Weather Condition      Snow Showers\n",
      "Name: 45, dtype: object]\n",
      "             Date/Time  Temp_C  Dew Point Temp_C  Rel Hum_%  Wind Speed_km/h  \\\n",
      "41      1/2/2012 17:00    -2.1              -9.5         57               22   \n",
      "44      1/2/2012 20:00    -5.6             -13.4         54               24   \n",
      "45      1/2/2012 21:00    -5.8             -12.8         58               26   \n",
      "47      1/2/2012 23:00    -7.4             -14.1         59               17   \n",
      "48       1/3/2012 0:00    -9.0             -16.0         57               28   \n",
      "...                ...     ...               ...        ...              ...   \n",
      "8779  12/31/2012 19:00     0.1              -2.7         81               30   \n",
      "8780  12/31/2012 20:00     0.2              -2.4         83               24   \n",
      "8781  12/31/2012 21:00    -0.5              -1.5         93               28   \n",
      "8782  12/31/2012 22:00    -0.2              -1.8         89               28   \n",
      "8783  12/31/2012 23:00     0.0              -2.1         86               30   \n",
      "\n",
      "      Visibility_km  Press_kPa Weather Condition  \n",
      "41             25.0      99.66      Snow Showers  \n",
      "44             25.0     100.07      Snow Showers  \n",
      "45             25.0     100.15      Snow Showers  \n",
      "47             19.3     100.27      Snow Showers  \n",
      "48             25.0     100.35      Snow Showers  \n",
      "...             ...        ...               ...  \n",
      "8779            9.7     100.13              Snow  \n",
      "8780            9.7     100.03              Snow  \n",
      "8781            4.8      99.95              Snow  \n",
      "8782            9.7      99.91              Snow  \n",
      "8783           11.3      99.89              Snow  \n",
      "\n",
      "[583 rows x 8 columns]\n"
     ]
    }
   ],
   "source": [
    "no = []\n",
    "condition = \"Snow\"\n",
    "for i in range(0, 8784):\n",
    "    if condition in data.loc[i, \"Weather Condition\"]:\n",
    "        no.append(data.iloc[i, 0:])\n",
    "print(\"For loop\\n\", len(no), no[0:3])\n",
    "df = pd.DataFrame(no, columns=[\"Date/Time\", \"Temp_C\", \"Dew Point Temp_C\", \"Rel Hum_%\", \"Wind Speed_km/h\", \"Visibility_km\", \"Press_kPa\", \"Weather Condition\"])\n",
    "print(df)"
   ]
  },
  {
   "attachments": {},
   "cell_type": "markdown",
   "id": "2beba912",
   "metadata": {},
   "source": [
    "### Q10. find all instances when wind speed is above 24 and visibility is 25."
   ]
  },
  {
   "cell_type": "code",
   "execution_count": 27,
   "id": "e18a87a0",
   "metadata": {},
   "outputs": [
    {
     "name": "stdout",
     "output_type": "stream",
     "text": [
      "\n",
      "wind speed is above 24 and visibility is 25\n",
      " 232 Date/Time            1/5/2012 13:00\n",
      "Temp_C                         -4.4\n",
      "Dew Point Temp_C               -9.7\n",
      "Rel Hum_%                        66\n",
      "Wind Speed_km/h                  26\n",
      "Visibility_km                  48.3\n",
      "Press_kPa                     100.4\n",
      "Weather Condition      Mainly Clear\n",
      "Name: 109, dtype: object\n"
     ]
    }
   ],
   "source": [
    "num = []\n",
    "for i in range(0, 8784):\n",
    "    if (data.loc[i, \"Wind Speed_km/h\"] > 24) and (data.loc[i, \"Visibility_km\"] > 25):\n",
    "        num.append(data.iloc[i, 0:])\n",
    "print(\"\\nwind speed is above 24 and visibility is 25\\n\", len(num), num[0])\n",
    "df1 = pd.DataFrame(num, columns=[\"Date/Time\", \"Temp_C\", \"Dew Point Temp_C\", \"Rel Hum_%\", \"Wind Speed_km/h\", \"Visibility_km\", \"Press_kPa\", \"Weather Condition\"])"
   ]
  },
  {
   "attachments": {},
   "cell_type": "markdown",
   "id": "8a844176",
   "metadata": {},
   "source": [
    "### Q11. What is the mean value of each column against each weather condition?"
   ]
  },
  {
   "cell_type": "code",
   "execution_count": 28,
   "id": "83e2d8b7",
   "metadata": {},
   "outputs": [
    {
     "name": "stdout",
     "output_type": "stream",
     "text": [
      "\n",
      "                                              Temp_C  Dew Point Temp_C  \\\n",
      "Weather Condition                                                      \n",
      "Clear                                     6.825716          0.089367   \n",
      "Cloudy                                    7.970544          2.375810   \n",
      "Drizzle                                   7.353659          5.504878   \n",
      "Drizzle,Fog                               8.067500          7.033750   \n",
      "Drizzle,Ice Pellets,Fog                   0.400000         -0.700000   \n",
      "Drizzle,Snow                              1.050000          0.150000   \n",
      "Drizzle,Snow,Fog                          0.693333          0.120000   \n",
      "Fog                                       4.303333          3.159333   \n",
      "Freezing Drizzle                         -5.657143         -8.000000   \n",
      "Freezing Drizzle,Fog                     -2.533333         -4.183333   \n",
      "Freezing Drizzle,Haze                    -5.433333         -8.000000   \n",
      "Freezing Drizzle,Snow                    -5.109091         -7.072727   \n",
      "Freezing Fog                             -7.575000         -9.250000   \n",
      "Freezing Rain                            -3.885714         -6.078571   \n",
      "Freezing Rain,Fog                        -2.225000         -3.750000   \n",
      "Freezing Rain,Haze                       -4.900000         -7.450000   \n",
      "Freezing Rain,Ice Pellets,Fog            -2.600000         -3.700000   \n",
      "Freezing Rain,Snow Grains                -5.000000         -7.300000   \n",
      "Haze                                     -0.200000         -2.975000   \n",
      "Mainly Clear                             12.558927          4.581671   \n",
      "Moderate Rain,Fog                         1.700000          0.800000   \n",
      "Moderate Snow                            -5.525000         -7.250000   \n",
      "Moderate Snow,Blowing Snow               -5.450000         -6.500000   \n",
      "Mostly Cloudy                            10.574287          3.131174   \n",
      "Rain                                      9.786275          7.042810   \n",
      "Rain Showers                             13.722340          9.187766   \n",
      "Rain Showers,Fog                         12.800000         12.100000   \n",
      "Rain Showers,Snow Showers                 2.150000         -1.500000   \n",
      "Rain,Fog                                  8.273276          7.219828   \n",
      "Rain,Haze                                 4.633333          2.066667   \n",
      "Rain,Ice Pellets                          0.600000         -0.600000   \n",
      "Rain,Snow                                 1.055556         -0.566667   \n",
      "Rain,Snow Grains                          1.900000         -2.100000   \n",
      "Rain,Snow,Fog                             0.800000          0.300000   \n",
      "Rain,Snow,Ice Pellets                     1.100000         -0.175000   \n",
      "Snow                                     -4.524103         -7.623333   \n",
      "Snow Pellets                              0.700000         -6.400000   \n",
      "Snow Showers                             -3.506667         -7.866667   \n",
      "Snow Showers,Fog                        -10.675000        -11.900000   \n",
      "Snow,Blowing Snow                        -5.410526         -7.621053   \n",
      "Snow,Fog                                 -5.075676         -6.364865   \n",
      "Snow,Haze                                -4.020000         -6.860000   \n",
      "Snow,Ice Pellets                         -1.883333         -3.666667   \n",
      "Thunderstorms                            24.150000         19.750000   \n",
      "Thunderstorms,Heavy Rain Showers         10.900000          9.000000   \n",
      "Thunderstorms,Moderate Rain Showers,Fog  19.600000         18.500000   \n",
      "Thunderstorms,Rain                       20.433333         18.533333   \n",
      "Thunderstorms,Rain Showers               20.037500         17.618750   \n",
      "Thunderstorms,Rain Showers,Fog           21.600000         18.700000   \n",
      "Thunderstorms,Rain,Fog                   20.600000         18.600000   \n",
      "\n",
      "                                         Rel Hum_%  Wind Speed_km/h  \\\n",
      "Weather Condition                                                     \n",
      "Clear                                    64.497738        10.557315   \n",
      "Cloudy                                   69.592593        16.127315   \n",
      "Drizzle                                  88.243902        16.097561   \n",
      "Drizzle,Fog                              93.275000        11.862500   \n",
      "Drizzle,Ice Pellets,Fog                  92.000000        20.000000   \n",
      "Drizzle,Snow                             93.500000        14.000000   \n",
      "Drizzle,Snow,Fog                         95.866667        15.533333   \n",
      "Fog                                      92.286667         7.946667   \n",
      "Freezing Drizzle                         83.571429        16.571429   \n",
      "Freezing Drizzle,Fog                     88.500000        17.000000   \n",
      "Freezing Drizzle,Haze                    82.000000        10.333333   \n",
      "Freezing Drizzle,Snow                    86.090909        16.272727   \n",
      "Freezing Fog                             87.750000         4.750000   \n",
      "Freezing Rain                            84.642857        19.214286   \n",
      "Freezing Rain,Fog                        89.500000        15.500000   \n",
      "Freezing Rain,Haze                       82.500000         7.500000   \n",
      "Freezing Rain,Ice Pellets,Fog            92.000000        28.000000   \n",
      "Freezing Rain,Snow Grains                84.000000        32.000000   \n",
      "Haze                                     81.625000        10.437500   \n",
      "Mainly Clear                             60.667142        14.144824   \n",
      "Moderate Rain,Fog                        94.000000        17.000000   \n",
      "Moderate Snow                            87.750000        33.750000   \n",
      "Moderate Snow,Blowing Snow               92.500000        40.000000   \n",
      "Mostly Cloudy                            62.102465        15.813920   \n",
      "Rain                                     83.624183        19.254902   \n",
      "Rain Showers                             75.159574        17.132979   \n",
      "Rain Showers,Fog                         96.000000        13.000000   \n",
      "Rain Showers,Snow Showers                76.500000        22.500000   \n",
      "Rain,Fog                                 93.189655        14.793103   \n",
      "Rain,Haze                                83.333333        11.666667   \n",
      "Rain,Ice Pellets                         92.000000        24.000000   \n",
      "Rain,Snow                                89.000000        28.388889   \n",
      "Rain,Snow Grains                         75.000000        26.000000   \n",
      "Rain,Snow,Fog                            96.000000         9.000000   \n",
      "Rain,Snow,Ice Pellets                    91.500000        23.250000   \n",
      "Snow                                     79.307692        20.038462   \n",
      "Snow Pellets                             59.000000        35.000000   \n",
      "Snow Showers                             72.350000        19.233333   \n",
      "Snow Showers,Fog                         90.750000        13.750000   \n",
      "Snow,Blowing Snow                        84.473684        34.842105   \n",
      "Snow,Fog                                 90.675676        17.324324   \n",
      "Snow,Haze                                80.600000         5.000000   \n",
      "Snow,Ice Pellets                         87.666667        23.833333   \n",
      "Thunderstorms                            77.000000         7.500000   \n",
      "Thunderstorms,Heavy Rain Showers         88.000000         9.000000   \n",
      "Thunderstorms,Moderate Rain Showers,Fog  93.000000        15.000000   \n",
      "Thunderstorms,Rain                       89.000000        15.666667   \n",
      "Thunderstorms,Rain Showers               86.375000        18.312500   \n",
      "Thunderstorms,Rain Showers,Fog           84.000000        19.666667   \n",
      "Thunderstorms,Rain,Fog                   88.000000        19.000000   \n",
      "\n",
      "                                         Visibility_km   Press_kPa  \n",
      "Weather Condition                                                   \n",
      "Clear                                        30.153243  101.587443  \n",
      "Cloudy                                       26.625752  100.911441  \n",
      "Drizzle                                      17.931707  100.435366  \n",
      "Drizzle,Fog                                   5.257500  100.786625  \n",
      "Drizzle,Ice Pellets,Fog                       4.000000  100.790000  \n",
      "Drizzle,Snow                                 10.500000  100.890000  \n",
      "Drizzle,Snow,Fog                              5.513333   99.281333  \n",
      "Fog                                           6.248000  101.184067  \n",
      "Freezing Drizzle                              9.200000  100.202857  \n",
      "Freezing Drizzle,Fog                          5.266667  100.441667  \n",
      "Freezing Drizzle,Haze                         2.666667  100.316667  \n",
      "Freezing Drizzle,Snow                         5.872727  100.520909  \n",
      "Freezing Fog                                  0.650000  102.320000  \n",
      "Freezing Rain                                 8.242857   99.647143  \n",
      "Freezing Rain,Fog                             7.550000   99.945000  \n",
      "Freezing Rain,Haze                            2.400000  100.375000  \n",
      "Freezing Rain,Ice Pellets,Fog                 8.000000  100.950000  \n",
      "Freezing Rain,Snow Grains                     4.800000   98.560000  \n",
      "Haze                                          7.831250  101.482500  \n",
      "Mainly Clear                                 34.264862  101.248832  \n",
      "Moderate Rain,Fog                             6.400000   99.980000  \n",
      "Moderate Snow                                 0.750000  100.275000  \n",
      "Moderate Snow,Blowing Snow                    0.600000  100.570000  \n",
      "Mostly Cloudy                                31.253842  101.025288  \n",
      "Rain                                         18.856536  100.233333  \n",
      "Rain Showers                                 22.816489  100.404043  \n",
      "Rain Showers,Fog                              6.400000   99.830000  \n",
      "Rain Showers,Snow Showers                    21.700000  101.100000  \n",
      "Rain,Fog                                      6.873276  100.500862  \n",
      "Rain,Haze                                     6.700000  100.540000  \n",
      "Rain,Ice Pellets                              9.700000  100.120000  \n",
      "Rain,Snow                                    11.672222   99.951111  \n",
      "Rain,Snow Grains                             25.000000  100.600000  \n",
      "Rain,Snow,Fog                                 6.400000  100.730000  \n",
      "Rain,Snow,Ice Pellets                         6.000000  100.105000  \n",
      "Snow                                         11.171795  100.536103  \n",
      "Snow Pellets                                  2.400000   99.700000  \n",
      "Snow Showers                                 20.158333  100.963500  \n",
      "Snow Showers,Fog                              7.025000  101.292500  \n",
      "Snow,Blowing Snow                             4.105263   99.704737  \n",
      "Snow,Fog                                      4.537838  100.688649  \n",
      "Snow,Haze                                     4.640000  100.782000  \n",
      "Snow,Ice Pellets                              7.416667  100.548333  \n",
      "Thunderstorms                                24.550000  100.230000  \n",
      "Thunderstorms,Heavy Rain Showers              2.400000  100.260000  \n",
      "Thunderstorms,Moderate Rain Showers,Fog       3.200000  100.010000  \n",
      "Thunderstorms,Rain                           19.833333  100.420000  \n",
      "Thunderstorms,Rain Showers                   15.893750  100.233750  \n",
      "Thunderstorms,Rain Showers,Fog                9.700000  100.063333  \n",
      "Thunderstorms,Rain,Fog                        4.800000  100.080000  \n"
     ]
    },
    {
     "name": "stderr",
     "output_type": "stream",
     "text": [
      "C:\\Users\\Yogesh\\AppData\\Local\\Temp\\ipykernel_13572\\2921087838.py:1: FutureWarning: The default value of numeric_only in DataFrameGroupBy.mean is deprecated. In a future version, numeric_only will default to False. Either specify numeric_only or select only columns which should be valid for the function.\n",
      "  men_value = data.groupby(\"Weather Condition\").mean()\n"
     ]
    }
   ],
   "source": [
    "men_value = data.groupby(\"Weather Condition\").mean()\n",
    "print(\"\\n \", men_value)"
   ]
  },
  {
   "attachments": {},
   "cell_type": "markdown",
   "id": "90ea0be0",
   "metadata": {},
   "source": [
    "### Q12. What is the minimum and maximum value of each column against each weather condition"
   ]
  },
  {
   "cell_type": "code",
   "execution_count": 29,
   "id": "08b8cf99",
   "metadata": {},
   "outputs": [
    {
     "name": "stdout",
     "output_type": "stream",
     "text": [
      "\n",
      " Maximum Value \n",
      " Date/Time                     9/9/2012 9:00\n",
      "Temp_C                                 33.0\n",
      "Dew Point Temp_C                       24.4\n",
      "Rel Hum_%                               100\n",
      "Wind Speed_km/h                          83\n",
      "Visibility_km                          48.3\n",
      "Press_kPa                            103.65\n",
      "Weather Condition    Thunderstorms,Rain,Fog\n",
      "dtype: object\n"
     ]
    }
   ],
   "source": [
    "maxi_value = data.max()\n",
    "print(\"\\n Maximum Value \\n\", maxi_value)"
   ]
  },
  {
   "attachments": {},
   "cell_type": "markdown",
   "id": "18e8c193",
   "metadata": {},
   "source": [
    "### Q13. Show all the records where weather condition is fog."
   ]
  },
  {
   "cell_type": "code",
   "execution_count": 30,
   "id": "de811a7f",
   "metadata": {},
   "outputs": [
    {
     "name": "stdout",
     "output_type": "stream",
     "text": [
      "weather condition is fog\n",
      " 426 [Date/Time            1/1/2012 0:00\n",
      "Temp_C                        -1.8\n",
      "Dew Point Temp_C              -3.9\n",
      "Rel Hum_%                       86\n",
      "Wind Speed_km/h                  4\n",
      "Visibility_km                  8.0\n",
      "Press_kPa                   101.24\n",
      "Weather Condition              Fog\n",
      "Name: 0, dtype: object, Date/Time            1/1/2012 1:00\n",
      "Temp_C                        -1.8\n",
      "Dew Point Temp_C              -3.7\n",
      "Rel Hum_%                       87\n",
      "Wind Speed_km/h                  4\n",
      "Visibility_km                  8.0\n",
      "Press_kPa                   101.24\n",
      "Weather Condition              Fog\n",
      "Name: 1, dtype: object, Date/Time                   1/1/2012 2:00\n",
      "Temp_C                               -1.8\n",
      "Dew Point Temp_C                     -3.4\n",
      "Rel Hum_%                              89\n",
      "Wind Speed_km/h                         7\n",
      "Visibility_km                         4.0\n",
      "Press_kPa                          101.26\n",
      "Weather Condition    Freezing Drizzle,Fog\n",
      "Name: 2, dtype: object]\n",
      "             Date/Time  Temp_C  Dew Point Temp_C  Rel Hum_%  Wind Speed_km/h  \\\n",
      "41      1/2/2012 17:00    -2.1              -9.5         57               22   \n",
      "44      1/2/2012 20:00    -5.6             -13.4         54               24   \n",
      "45      1/2/2012 21:00    -5.8             -12.8         58               26   \n",
      "47      1/2/2012 23:00    -7.4             -14.1         59               17   \n",
      "48       1/3/2012 0:00    -9.0             -16.0         57               28   \n",
      "...                ...     ...               ...        ...              ...   \n",
      "8779  12/31/2012 19:00     0.1              -2.7         81               30   \n",
      "8780  12/31/2012 20:00     0.2              -2.4         83               24   \n",
      "8781  12/31/2012 21:00    -0.5              -1.5         93               28   \n",
      "8782  12/31/2012 22:00    -0.2              -1.8         89               28   \n",
      "8783  12/31/2012 23:00     0.0              -2.1         86               30   \n",
      "\n",
      "      Visibility_km  Press_kPa Weather Condition  \n",
      "41             25.0      99.66      Snow Showers  \n",
      "44             25.0     100.07      Snow Showers  \n",
      "45             25.0     100.15      Snow Showers  \n",
      "47             19.3     100.27      Snow Showers  \n",
      "48             25.0     100.35      Snow Showers  \n",
      "...             ...        ...               ...  \n",
      "8779            9.7     100.13              Snow  \n",
      "8780            9.7     100.03              Snow  \n",
      "8781            4.8      99.95              Snow  \n",
      "8782            9.7      99.91              Snow  \n",
      "8783           11.3      99.89              Snow  \n",
      "\n",
      "[583 rows x 8 columns]\n"
     ]
    }
   ],
   "source": [
    "no2 = []\n",
    "condition1 = \"Fog\"\n",
    "for i in range(0, 8784):\n",
    "    if condition1 in data.loc[i, \"Weather Condition\"]:\n",
    "        no2.append(data.iloc[i, 0:])\n",
    "print(\"weather condition is fog\\n\", len(no2), no2[0:3])\n",
    "df2 = pd.DataFrame(no, columns=[\"Date/Time\", \"Temp_C\", \"Dew Point Temp_C\", \"Rel Hum_%\", \"Wind Speed_km/h\", \"Visibility_km\", \"Press_kPa\", \"Weather Condition\"])\n",
    "print(df2)"
   ]
  },
  {
   "attachments": {},
   "cell_type": "markdown",
   "id": "e2fbb420",
   "metadata": {},
   "source": [
    "### Q14. Find all the instance when weather is clear or visibility is above 40."
   ]
  },
  {
   "cell_type": "code",
   "execution_count": 31,
   "id": "cb9b1055",
   "metadata": {},
   "outputs": [
    {
     "name": "stdout",
     "output_type": "stream",
     "text": [
      "\n",
      "wind speed is above 24 and visibility is 25\n",
      " 4262 [Date/Time            1/2/2012 12:00\n",
      "Temp_C                          1.7\n",
      "Dew Point Temp_C               -6.2\n",
      "Rel Hum_%                        56\n",
      "Wind Speed_km/h                  48\n",
      "Visibility_km                  24.1\n",
      "Press_kPa                     99.21\n",
      "Weather Condition      Mainly Clear\n",
      "Name: 36, dtype: object, Date/Time            1/3/2012 12:00\n",
      "Temp_C                        -14.9\n",
      "Dew Point Temp_C              -22.6\n",
      "Rel Hum_%                        52\n",
      "Wind Speed_km/h                  20\n",
      "Visibility_km                  24.1\n",
      "Press_kPa                    101.34\n",
      "Weather Condition      Mainly Clear\n",
      "Name: 60, dtype: object, Date/Time            1/3/2012 13:00\n",
      "Temp_C                        -15.1\n",
      "Dew Point Temp_C              -22.4\n",
      "Rel Hum_%                        54\n",
      "Wind Speed_km/h                  22\n",
      "Visibility_km                  24.1\n",
      "Press_kPa                    101.34\n",
      "Weather Condition      Mainly Clear\n",
      "Name: 61, dtype: object, Date/Time            1/3/2012 14:00\n",
      "Temp_C                        -14.9\n",
      "Dew Point Temp_C              -22.9\n",
      "Rel Hum_%                        50\n",
      "Wind Speed_km/h                  22\n",
      "Visibility_km                  24.1\n",
      "Press_kPa                    101.38\n",
      "Weather Condition      Mainly Clear\n",
      "Name: 62, dtype: object, Date/Time            1/3/2012 15:00\n",
      "Temp_C                        -14.8\n",
      "Dew Point Temp_C              -22.2\n",
      "Rel Hum_%                        53\n",
      "Wind Speed_km/h                  19\n",
      "Visibility_km                  24.1\n",
      "Press_kPa                    101.44\n",
      "Weather Condition      Mainly Clear\n",
      "Name: 63, dtype: object, Date/Time            1/3/2012 16:00\n",
      "Temp_C                        -15.3\n",
      "Dew Point Temp_C              -22.9\n",
      "Rel Hum_%                        52\n",
      "Wind Speed_km/h                  22\n",
      "Visibility_km                  24.1\n",
      "Press_kPa                    101.51\n",
      "Weather Condition      Mainly Clear\n",
      "Name: 64, dtype: object]\n",
      "    Wind Speed_km/h Weather Condition\n",
      "36               48      Mainly Clear\n",
      "60               20      Mainly Clear\n",
      "61               22      Mainly Clear\n",
      "62               22      Mainly Clear\n",
      "63               19      Mainly Clear\n",
      "64               22      Mainly Clear\n",
      "65               22      Mainly Clear\n",
      "66               24      Mainly Clear\n",
      "67               24             Clear\n",
      "68               24      Mainly Clear\n",
      "73               11      Mainly Clear\n"
     ]
    }
   ],
   "source": [
    "num3 = []\n",
    "for i in range(0, 8784):\n",
    "    if (\"Clear\" in data.loc[i, \"Weather Condition\"]) or (data.loc[i, \"Visibility_km\"] > 40):\n",
    "        num3.append(data.iloc[i, 0:])\n",
    "print(\"\\nwind speed is above 24 and visibility is 25\\n\", len(num3), num3[0:6])\n",
    "df3 = pd.DataFrame(num3, columns=[\"Date/Time\", \"Temp_C\", \"Dew Point Temp_C\", \"Rel Hum_%\", \"Wind Speed_km/h\", \"Visibility_km\", \"Press_kPa\", \"Weather Condition\"])\n",
    "print(df3.iloc[0:11,[4,7]])"
   ]
  },
  {
   "attachments": {},
   "cell_type": "markdown",
   "id": "07fe584e",
   "metadata": {},
   "source": [
    "### Q15. Find all the instance when weather is clear or relative humidity is above 50."
   ]
  },
  {
   "cell_type": "code",
   "execution_count": 32,
   "id": "7eb91ed1",
   "metadata": {},
   "outputs": [
    {
     "name": "stdout",
     "output_type": "stream",
     "text": [
      "\n",
      "weather is clear or relative humidity is above 50\n",
      " 8125 [Date/Time            1/1/2012 0:00\n",
      "Temp_C                        -1.8\n",
      "Dew Point Temp_C              -3.9\n",
      "Rel Hum_%                       86\n",
      "Wind Speed_km/h                  4\n",
      "Visibility_km                  8.0\n",
      "Press_kPa                   101.24\n",
      "Weather Condition              Fog\n",
      "Name: 0, dtype: object, Date/Time            1/1/2012 1:00\n",
      "Temp_C                        -1.8\n",
      "Dew Point Temp_C              -3.7\n",
      "Rel Hum_%                       87\n",
      "Wind Speed_km/h                  4\n",
      "Visibility_km                  8.0\n",
      "Press_kPa                   101.24\n",
      "Weather Condition              Fog\n",
      "Name: 1, dtype: object, Date/Time                   1/1/2012 2:00\n",
      "Temp_C                               -1.8\n",
      "Dew Point Temp_C                     -3.4\n",
      "Rel Hum_%                              89\n",
      "Wind Speed_km/h                         7\n",
      "Visibility_km                         4.0\n",
      "Press_kPa                          101.26\n",
      "Weather Condition    Freezing Drizzle,Fog\n",
      "Name: 2, dtype: object, Date/Time                   1/1/2012 3:00\n",
      "Temp_C                               -1.5\n",
      "Dew Point Temp_C                     -3.2\n",
      "Rel Hum_%                              88\n",
      "Wind Speed_km/h                         6\n",
      "Visibility_km                         4.0\n",
      "Press_kPa                          101.27\n",
      "Weather Condition    Freezing Drizzle,Fog\n",
      "Name: 3, dtype: object, Date/Time            1/1/2012 4:00\n",
      "Temp_C                        -1.5\n",
      "Dew Point Temp_C              -3.3\n",
      "Rel Hum_%                       88\n",
      "Wind Speed_km/h                  7\n",
      "Visibility_km                  4.8\n",
      "Press_kPa                   101.23\n",
      "Weather Condition              Fog\n",
      "Name: 4, dtype: object, Date/Time            1/1/2012 5:00\n",
      "Temp_C                        -1.4\n",
      "Dew Point Temp_C              -3.3\n",
      "Rel Hum_%                       87\n",
      "Wind Speed_km/h                  9\n",
      "Visibility_km                  6.4\n",
      "Press_kPa                   101.27\n",
      "Weather Condition              Fog\n",
      "Name: 5, dtype: object]\n"
     ]
    }
   ],
   "source": [
    "num4 = []\n",
    "for i in range(0, 8784):\n",
    "    if (\"Clear\" in data.loc[i, \"Weather Condition\"]) or (data.loc[i, \"Rel Hum_%\"] > 50):\n",
    "        num4.append(data.iloc[i, 0:])\n",
    "print(\"\\nweather is clear or relative humidity is above 50\\n\", len(num4), num4[0:6])\n",
    "df4 = pd.DataFrame(num3, columns=[\"Date/Time\", \"Temp_C\", \"Dew Point Temp_C\", \"Rel Hum_%\", \"Wind Speed_km/h\", \"Visibility_km\", \"Press_kPa\", \"Weather Condition\"])"
   ]
  }
 ],
 "metadata": {
  "kernelspec": {
   "display_name": "Python 3",
   "language": "python",
   "name": "python3"
  },
  "language_info": {
   "codemirror_mode": {
    "name": "ipython",
    "version": 3
   },
   "file_extension": ".py",
   "mimetype": "text/x-python",
   "name": "python",
   "nbconvert_exporter": "python",
   "pygments_lexer": "ipython3",
   "version": "3.10.8"
  },
  "vscode": {
   "interpreter": {
    "hash": "a70fd689c8ddb5c4e09895a45fb187eb1279be2331afb35392f36e6b145ac57b"
   }
  }
 },
 "nbformat": 4,
 "nbformat_minor": 5
}
