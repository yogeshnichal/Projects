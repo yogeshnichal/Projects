{
 "cells": [
  {
   "cell_type": "code",
   "execution_count": 4,
   "id": "f2b7d422",
   "metadata": {},
   "outputs": [],
   "source": [
    "import qrcode\n",
    "from PIL import Image"
   ]
  },
  {
   "cell_type": "code",
   "execution_count": 7,
   "id": "140cb2b8",
   "metadata": {},
   "outputs": [],
   "source": [
    "qr = qrcode.QRCode(version=1,\n",
    "                  error_correction=qrcode.constants.ERROR_CORRECT_H,box_size=10,border=4,)\n",
    "qr.add_data(\"https://github.com/yogeshnichal\")\n",
    "qr.make(fit=True)\n",
    "img=qr.make_image(fill_color=\"black\", back_color=\"white\")\n",
    "img.save(\"github_link.png\")"
   ]
  },
  {
   "cell_type": "code",
   "execution_count": null,
   "id": "9b51f214",
   "metadata": {},
   "outputs": [],
   "source": []
  }
 ],
 "metadata": {
  "kernelspec": {
   "display_name": "Python 3 (ipykernel)",
   "language": "python",
   "name": "python3"
  },
  "language_info": {
   "codemirror_mode": {
    "name": "ipython",
    "version": 3
   },
   "file_extension": ".py",
   "mimetype": "text/x-python",
   "name": "python",
   "nbconvert_exporter": "python",
   "pygments_lexer": "ipython3",
   "version": "3.9.13"
  }
 },
 "nbformat": 4,
 "nbformat_minor": 5
}
