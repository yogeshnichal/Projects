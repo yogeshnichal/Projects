{
 "cells": [
  {
   "cell_type": "code",
   "execution_count": 1,
   "id": "e1cac819",
   "metadata": {},
   "outputs": [],
   "source": [
    "# a-z\n",
    "# 0-9\n",
    "# . _ time 1\n",
    "# @ time 1\n",
    "# . 2nd or 3rd position"
   ]
  },
  {
   "cell_type": "code",
   "execution_count": 2,
   "id": "420c36cf",
   "metadata": {},
   "outputs": [],
   "source": [
    "import re"
   ]
  },
  {
   "cell_type": "code",
   "execution_count": 3,
   "id": "d0988a77",
   "metadata": {},
   "outputs": [
    {
     "name": "stdout",
     "output_type": "stream",
     "text": [
      "Enter email: yogeshnichal@gmail.com\n",
      "Right email\n"
     ]
    }
   ],
   "source": [
    "email_condition = \"^[a-z]+[\\._]?[a-z 0-9]+[@]\\w+[.]\\w{2,3}$\"\n",
    "user_email = input(\"Enter email: \")\n",
    "\n",
    "if re.search(email_condition,user_email):\n",
    "    print(\"Right email\")\n",
    "else:\n",
    "    print(\"Wrong email\")"
   ]
  }
 ],
 "metadata": {
  "kernelspec": {
   "display_name": "Python 3 (ipykernel)",
   "language": "python",
   "name": "python3"
  },
  "language_info": {
   "codemirror_mode": {
    "name": "ipython",
    "version": 3
   },
   "file_extension": ".py",
   "mimetype": "text/x-python",
   "name": "python",
   "nbconvert_exporter": "python",
   "pygments_lexer": "ipython3",
   "version": "3.9.13"
  }
 },
 "nbformat": 4,
 "nbformat_minor": 5
}
