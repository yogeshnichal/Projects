{
 "cells": [
  {
   "cell_type": "code",
   "execution_count": 1,
   "id": "530b9b58",
   "metadata": {},
   "outputs": [],
   "source": [
    "from time import*\n",
    "import random as r"
   ]
  },
  {
   "cell_type": "code",
   "execution_count": 2,
   "id": "bb66fc52",
   "metadata": {},
   "outputs": [
    {
     "name": "stdout",
     "output_type": "stream",
     "text": [
      "***** Typing speed *****\n",
      "My name is Yogesh Nichal, I have been on my Animation Journey since 2008\n",
      "\n",
      "\n",
      "Enter: My Name is Yogesh Nichal, I have been on my Animation Journey since 2008\n",
      "Speed:  2 w/sec\n",
      "Error:  None\n"
     ]
    }
   ],
   "source": [
    "def mistakes(partest, usertest):\n",
    "    error = 0\n",
    "    for i in range(len(partest)):\n",
    "        try:\n",
    "            if partest[i]!=usertest[i]:\n",
    "                error += 1\n",
    "            \n",
    "        except:\n",
    "            error += 1\n",
    "            \n",
    "def speed_time(time_s, time_e, userinput):\n",
    "    time_delay = time_e - time_s\n",
    "    time_r = round(time_delay,2)\n",
    "    speed = len(userinput)/time_r\n",
    "    return round(speed)\n",
    "    \n",
    "test = [\"My name is Yogesh Nichal, I have been on my Animation Journey since 2008\", \"compliting four diploma courses with a specilization in Visual Effects and three in 3D Maya.\"]\n",
    "\n",
    "test1 = r.choice(test)\n",
    "print(\"***** Typing speed *****\")\n",
    "print(test1)\n",
    "print()\n",
    "print()\n",
    "\n",
    "time_1 = time()\n",
    "testinput = input(\"Enter: \")\n",
    "time_2 = time()\n",
    "\n",
    "print('Speed: ',speed_time(time_1, time_2, testinput), \"w/sec\")\n",
    "print(\"Error: \", mistakes(test1, testinput))"
   ]
  },
  {
   "cell_type": "code",
   "execution_count": null,
   "id": "3b57cecf",
   "metadata": {},
   "outputs": [],
   "source": []
  }
 ],
 "metadata": {
  "kernelspec": {
   "display_name": "Python 3 (ipykernel)",
   "language": "python",
   "name": "python3"
  },
  "language_info": {
   "codemirror_mode": {
    "name": "ipython",
    "version": 3
   },
   "file_extension": ".py",
   "mimetype": "text/x-python",
   "name": "python",
   "nbconvert_exporter": "python",
   "pygments_lexer": "ipython3",
   "version": "3.9.13"
  }
 },
 "nbformat": 4,
 "nbformat_minor": 5
}
